{
 "cells": [
  {
   "metadata": {},
   "cell_type": "markdown",
   "source": [
    "# MEGA UE5: Machine Learning\n",
    "In this exercise, you will use Python to explore and get insights into a large cohort of COVID patient\n",
    "cases using traditional machine learning approaches for stratification (i.e., dimensionality\n",
    "reduction and clustering). You will work with EHR data (`data_ehr.csv`) that you can find in the UE5-\n",
    "data.zip file. There is also a data_description.csv that includes a description of the variables\n",
    "included in this EHR data set.\n",
    "\n",
    "For the submission, you need to provide two deliverables:\n",
    "1. A `.pdf` with the answers to the questions (a-f) below.\n",
    "2. Your `.py` script(s)."
   ],
   "id": "de3ef2e6ead2930"
  },
  {
   "metadata": {},
   "cell_type": "markdown",
   "source": [
    "## Part 1: Data Preprocessing\n",
    "Assignment description"
   ],
   "id": "63d987e3a6b7ed6"
  },
  {
   "cell_type": "code",
   "execution_count": null,
   "id": "initial_id",
   "metadata": {
    "collapsed": true
   },
   "outputs": [],
   "source": "# Code to solve (a), call functions from part1.py"
  },
  {
   "metadata": {},
   "cell_type": "markdown",
   "source": "Text answer for (a)",
   "id": "29736ec120f9065b"
  },
  {
   "metadata": {},
   "cell_type": "code",
   "outputs": [],
   "execution_count": null,
   "source": "# Code to solve (b), call functions from part1.py",
   "id": "d05e60eac616ec05"
  },
  {
   "metadata": {},
   "cell_type": "markdown",
   "source": "Text answer for (b)",
   "id": "581d9eb1ab372be"
  }
 ],
 "metadata": {
  "kernelspec": {
   "display_name": "Python 3",
   "language": "python",
   "name": "python3"
  },
  "language_info": {
   "codemirror_mode": {
    "name": "ipython",
    "version": 2
   },
   "file_extension": ".py",
   "mimetype": "text/x-python",
   "name": "python",
   "nbconvert_exporter": "python",
   "pygments_lexer": "ipython2",
   "version": "2.7.6"
  }
 },
 "nbformat": 4,
 "nbformat_minor": 5
}
