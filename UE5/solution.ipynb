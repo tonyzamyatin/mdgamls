{
 "cells": [
  {
   "metadata": {},
   "cell_type": "markdown",
   "source": [
    "# MEGA UE5: Machine Learning\n",
    "In this exercise, you will use Python to explore and get insights into a large cohort of COVID patient\n",
    "cases using traditional machine learning approaches for stratification (i.e., dimensionality\n",
    "reduction and clustering). You will work with EHR data (`data_ehr.csv`) that you can find in the UE5-\n",
    "data.zip file. There is also a data_description.csv that includes a description of the variables\n",
    "included in this EHR data set.\n",
    "\n",
    "For the submission, you need to provide two deliverables:\n",
    "1. A `.pdf` with the answers to the questions (a-f) below.\n",
    "2. Your `.py` script(s)."
   ],
   "id": "de3ef2e6ead2930"
  },
  {
   "metadata": {},
   "cell_type": "markdown",
   "source": [
    "## Part 1: Data Preprocessing\n",
    "Read the EHR data (data_ehr.csv), for instance with the Pandas library. The dataset contains\n",
    "missing values that are encoded with NA or empty values. Clean the dataset by removing columns\n",
    "where more than 30% of the values are NA.\n",
    "\n",
    "a- How many dimensions (attributes) and instances (cases or number of patients) does\n",
    "the clean dataset contain? How many dimensions and instances did it contain before the cleaning?\n",
    "\n",
    "b- What type of data does the clean dataset contain?"
   ],
   "id": "63d987e3a6b7ed6"
  },
  {
   "cell_type": "code",
   "id": "initial_id",
   "metadata": {
    "collapsed": true,
    "ExecuteTime": {
     "end_time": "2024-11-27T14:20:50.496197Z",
     "start_time": "2024-11-27T14:20:50.457175Z"
    }
   },
   "source": [
    "import part1 as preprocessing\n",
    "\n",
    "data = preprocessing.read_csv('UE5-data/data_ehr.csv')\n",
    "rows, columns = data.shape\n",
    "print('Rows:', rows, 'Columns:', columns)\n",
    "\n",
    "clean_data = preprocessing.clean_data(data)\n",
    "clean_rows, clean_columns = clean_data.shape\n",
    "print('Rows_cleaned:', clean_rows, 'Columns_cleaned:', clean_columns)"
   ],
   "outputs": [
    {
     "name": "stdout",
     "output_type": "stream",
     "text": [
      "Rows: 1384 Columns: 130\n",
      "Rows_cleaned: 1384 Columns_cleaned: 118\n"
     ]
    }
   ],
   "execution_count": 13
  },
  {
   "metadata": {},
   "cell_type": "markdown",
   "source": "The file data_ehr.csv contains 130 dimensions (columns) and 1384 instances (rows). After preprocessing and removing columns/dimensions where more than 30% of the values are NA it only contains 118 dimensions (columns). The number of instances stays the same since removal only concerned columns.",
   "id": "29736ec120f9065b"
  },
  {
   "metadata": {
    "ExecuteTime": {
     "end_time": "2024-11-27T14:08:30.304025Z",
     "start_time": "2024-11-27T14:08:30.293404Z"
    }
   },
   "cell_type": "code",
   "source": "print(clean_data.info())",
   "id": "d05e60eac616ec05",
   "outputs": [
    {
     "name": "stdout",
     "output_type": "stream",
     "text": [
      "<class 'pandas.core.frame.DataFrame'>\n",
      "RangeIndex: 1384 entries, 0 to 1383\n",
      "Columns: 118 entries, to_patient_id to therapeutic.heparin.Boolean\n",
      "dtypes: bool(3), float64(32), int64(1), object(82)\n",
      "memory usage: 1.2+ MB\n",
      "None\n"
     ]
    }
   ],
   "execution_count": 4
  },
  {
   "metadata": {},
   "cell_type": "markdown",
   "source": "In the preprocessed \"cleaned\" data there are 118 columns left. Each of these has a specific data type: 3 columns-bool, 32 columns-float64, 1 columns-int64, 82 columns-object",
   "id": "581d9eb1ab372be"
  }
 ],
 "metadata": {
  "kernelspec": {
   "display_name": "Python 3",
   "language": "python",
   "name": "python3"
  },
  "language_info": {
   "codemirror_mode": {
    "name": "ipython",
    "version": 2
   },
   "file_extension": ".py",
   "mimetype": "text/x-python",
   "name": "python",
   "nbconvert_exporter": "python",
   "pygments_lexer": "ipython2",
   "version": "2.7.6"
  }
 },
 "nbformat": 4,
 "nbformat_minor": 5
}
