{
 "cells": [
  {
   "metadata": {},
   "cell_type": "markdown",
   "source": [
    "## UE Notes\n",
    "\n",
    "### Part 1) Noise Suppression\n",
    "See code documentation of `DICOMViewer_1.py`.\n",
    "\n",
    "### Part 2) Reseampling\n",
    "a) First down-sampling the images by a factor of 4 and then up-sampling the images by a factor of 4 yields pixelated images. The reason for this is\n",
    " that down-sampling by a factor of 4 results in 93.75% of information being discarded (resize by $\\frac{1}{4}$ per dimension, 2D image $\\implies$ \n",
    " $(\\frac{1}{4})^2=\\frac{1}{16}$ reduction $\\implies$ $\\frac{15}{16}=$ 93.75% information loss). The subsequent up-sampling of the image to its \n",
    " original size cannot restore the already lost information, which results in a lower spatial resolution.\n",
    " \n",
    "b) The three interpolation methods used - nearest neighbor, bilinear and bicubic - all have the aim of interpolating missing pixel values based on \n",
    "the missing pixels souring pixels.\n",
    "- **Nearest Neighbor Interpolation**:  \n",
    "  Simply adopts the pixel value of the **closest pixel** to the target location, as defined by **Euclidean distance**.  \n",
    "  - Pros: Fast and computationally inexpensive.  \n",
    "  - Cons: Produces blocky and jagged edges, especially for large upscaling.\n",
    "\n",
    "- **Bilinear Interpolation**:  \n",
    "  Computes the target pixel value as a **weighted average of the four nearest pixels** in the grid. The weights are based on the distances to the target point.  \n",
    "  - Pros: Produces smoother results than nearest neighbor.  \n",
    "  - Cons: May introduce slight blurring.\n",
    "\n",
    "- **Bicubic Interpolation**:  \n",
    "  Uses a **weighted average of the 16 nearest pixels**, incorporating cubic polynomials for interpolation.  \n",
    "  - Pros: Produces the smoothest and most visually appealing results, especially for continuous gradients.  \n",
    "  - Cons: Computationally more expensive than the other two.\n",
    "\n",
    "### Part 3) Image Segmentation\n",
    "_a) Thresholding_\n",
    "\n",
    "A good value for the threshold to segment the aneurysm and the spine from the rest of the image is about 160, which is also set in the network (UE3-ImageSegmentation-Thresholding file). Some other structures of same or higher gray value will also be highlighted here for example the pelvic bones or blood vessels. With thresholding of a gray value alone a clean segmentation of structures from the same material (eg. bone or blood) is not possible. \n",
    "\n",
    "_b) Region Growing_\n",
    "\n",
    "By setting a seed point in the aneurysm of the RegionGrowingMakro a similar image to _a) Thresholding_ can be produced. The separation of the aneurysm from the spine could be achieved in the network of UE3-ImageSegmentation-RegionGrowing by choosing a favorable spot in the aneurysm for the starting point of the region growing algorithm and then scaling down the Threshold Interval Size. This creates a boundary condition so that the range of gray values selected to grow the region is more confined to aneurysm specific gray values. What is surprising at first is that the spine does contain gray values between the min and max values but is not highlighted. But looking at how this algorithm works it becomes clear if there’s a slight intensity gap between the aneurysm and spine, the algorithm stops expanding once it reaches this area, even if the spine itself falls within the original threshold range. If the aneurysm was closer to the spine a segmentation would not work as well with this algorithm. "
   ],
   "id": "a740349b634bbd7c"
  },
  {
   "metadata": {},
   "cell_type": "code",
   "outputs": [],
   "execution_count": null,
   "source": "",
   "id": "42d85d6785d80b48"
  }
 ],
 "metadata": {
  "kernelspec": {
   "display_name": "Python 3",
   "language": "python",
   "name": "python3"
  },
  "language_info": {
   "codemirror_mode": {
    "name": "ipython",
    "version": 2
   },
   "file_extension": ".py",
   "mimetype": "text/x-python",
   "name": "python",
   "nbconvert_exporter": "python",
   "pygments_lexer": "ipython2",
   "version": "2.7.6"
  }
 },
 "nbformat": 4,
 "nbformat_minor": 5
}
