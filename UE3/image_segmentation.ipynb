{
 "cells": [
  {
   "metadata": {},
   "cell_type": "markdown",
   "source": [
    "### UE3: Image Segmentation\n",
    "\n",
    "_a) Thresholding_\n",
    "\n",
    "A good value for the threshold to segment the aneurysm and the spine from the rest of the image is about 160, which is also set in the network (UE3-ImageSegmentation-Thresholding file). Some other structures of same or higher gray value will also be highlighted here for example the pelvic bones or blood vessels. With thresholding of a gray value alone a clean segmentation of structures from the same material (eg. bone or blood) is not possible. "
   ],
   "id": "a740349b634bbd7c"
  },
  {
   "metadata": {},
   "cell_type": "markdown",
   "source": [
    "_b) Region Growing_\n",
    "\n",
    "By setting a seed point in the aneurysm of the RegionGrowingMakro a similar image to _a) Thresholding_ can be produced. The separation of the aneurysm from the spine could be achieved in the network of UE3-ImageSegmentation-RegionGrowing by choosing a favorable spot in the aneurysm for the starting point of the region growing algorithm and then scaling down the Threshold Interval Size. This creates a boundary condition so that the range of gray values selected to grow the region is more confined to aneurysm specific gray values. What is surprising at first is that the spine does contain gray values between the min and max values but is not highlighted. But looking at how this algorithm works it becomes clear if there’s a slight intensity gap between the aneurysm and spine, the algorithm stops expanding once it reaches this area, even if the spine itself falls within the original threshold range. If the aneurysm was closer to the spine a segmentation would not work as well with this algorithm. "
   ],
   "id": "fcd9ea019233b3bb"
  }
 ],
 "metadata": {
  "kernelspec": {
   "display_name": "Python 3",
   "language": "python",
   "name": "python3"
  },
  "language_info": {
   "codemirror_mode": {
    "name": "ipython",
    "version": 2
   },
   "file_extension": ".py",
   "mimetype": "text/x-python",
   "name": "python",
   "nbconvert_exporter": "python",
   "pygments_lexer": "ipython2",
   "version": "2.7.6"
  }
 },
 "nbformat": 4,
 "nbformat_minor": 5
}
