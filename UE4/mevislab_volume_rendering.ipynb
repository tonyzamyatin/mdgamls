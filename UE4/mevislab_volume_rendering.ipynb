{
 "cells": [
  {
   "metadata": {},
   "cell_type": "markdown",
   "source": "### Part 4: A simple volume rendering in MeVisLab\n",
   "id": "81eb889f868d115f"
  },
  {
   "metadata": {},
   "cell_type": "markdown",
   "source": [
    "The network build for this exercise can be found in the UE4-NetworkVolumeRendering.mlab file.\n",
    "\n",
    "When opening the SoLUTEditor a histogram with a function is shown where intensity values of the image are shown. For creating the 1D function that highlights relevant structures (eg bones), the function in the histogram can be dragged, points can be added and so on. Important therefor is that the x-axis indicates which intensity is chosen and the y-axis manipulates the opacity. Good to know is also the color feature, which can also help highlight darker structures be selecting a brighter color for them. \n",
    "\n",
    "For this specific function peaks of higher intensity values where looked at because these usually correspond to denser structures like bones. By setting the first point in the function as seen in Screenshot_1Dfunction at y=0, all intensity values up until then are made transparent. To increase brightness and contrast a little, a second point is set not far from significant intensities and colored white. \n",
    "\n",
    "After the structure is segmented the different setting of the volume rendering generate different versions of it using “Illuminated”, “Direct”, “Blend”, “MIP” options. The Screenshot_1Dfunction shows the standard setting with \"Direct\" and \"Blend\". In \"Direct\" mode each voxel contributes to the final image based on its intensity and transfer function. For \"Blend\" mode multiple voxels along each viewline based on their opacity and color are combined -> allows visualization of overlapping structures. After setting Render Mode to \"Illuminated\" (3D-like visualizations with lightning and shading) the structure appears to have a higher contrast, see Screenshot_Illuminated. In Screenshot_MIP the Blend Mode is set to MIP (Maximum Intensity Projection) which makes other structures visible as well the segmented structure overexposed a bit. This is because this mode projects the maximum intensity value along each ray of sight onto the image plane -> reduces volume to the brightest structures."
   ],
   "id": "41bb15e3a4d1bf0d"
  },
  {
   "metadata": {},
   "cell_type": "markdown",
   "source": "",
   "id": "525d3d953dc68a2"
  }
 ],
 "metadata": {
  "kernelspec": {
   "display_name": "Python 3",
   "language": "python",
   "name": "python3"
  },
  "language_info": {
   "codemirror_mode": {
    "name": "ipython",
    "version": 2
   },
   "file_extension": ".py",
   "mimetype": "text/x-python",
   "name": "python",
   "nbconvert_exporter": "python",
   "pygments_lexer": "ipython2",
   "version": "2.7.6"
  }
 },
 "nbformat": 4,
 "nbformat_minor": 5
}
