{
 "cells": [
  {
   "metadata": {},
   "cell_type": "markdown",
   "source": [
    "# UE1: Calibration Curve\n",
    "Inside the \"linear_regression_[group number].csv\" files are datasets of concentrations and corresponding absorption values from a UV/VIS \n",
    "determination of protein concentration. Using this dataset, carry out the following steps to establish a calibration: \n",
    "\n",
    "1. determine the linear range of the method\n",
    "2. calculate the calibration curve\n",
    "3. determine the LOD and LOQ of the calibration"
   ],
   "id": "241d8f7796d51655"
  },
  {
   "cell_type": "code",
   "id": "initial_id",
   "metadata": {
    "collapsed": true,
    "jupyter": {
     "is_executing": true
    }
   },
   "source": [
    "import pandas as pd\n",
    "\n",
    "\n",
    "import matplotlib.pyplot as plt\n",
    "import numpy as np\n",
    "import xarray as xr\n",
    "\n",
    "\n",
    "try:\n",
    "    from cavs_style.style import CAVS_style\n",
    "\n",
    "    plt.style.use(CAVS_style)\n",
    "except ImportError:\n",
    "    pass\n",
    "\n",
    "%matplotlib inline"
   ],
   "outputs": [],
   "execution_count": null
  },
  {
   "metadata": {},
   "cell_type": "markdown",
   "source": "## 1. Linear Range",
   "id": "baef42de797d7818"
  },
  {
   "metadata": {
    "ExecuteTime": {
     "end_time": "2024-10-09T17:26:03.997617Z",
     "start_time": "2024-10-09T17:26:01.845896Z"
    }
   },
   "cell_type": "code",
   "source": "idx, concentration, absorption = np.genfromtxt(\"linear_regression_2.csv\", delimiter=',', unpack=True)",
   "id": "9c20115fd8f3caea",
   "outputs": [
    {
     "ename": "ValueError",
     "evalue": "Some errors were detected !\n    Line #2 (got 1 columns instead of 3)\n    Line #3 (got 1 columns instead of 3)\n    Line #4 (got 1 columns instead of 3)\n    Line #5 (got 1 columns instead of 3)\n    Line #6 (got 1 columns instead of 3)\n    Line #7 (got 1 columns instead of 3)\n    Line #8 (got 1 columns instead of 3)\n    Line #9 (got 1 columns instead of 3)\n    Line #10 (got 1 columns instead of 3)\n    Line #11 (got 1 columns instead of 3)\n    Line #12 (got 1 columns instead of 3)\n    Line #13 (got 1 columns instead of 3)\n    Line #14 (got 1 columns instead of 3)\n    Line #15 (got 1 columns instead of 3)\n    Line #16 (got 1 columns instead of 3)\n    Line #17 (got 1 columns instead of 3)\n    Line #18 (got 1 columns instead of 3)\n    Line #19 (got 1 columns instead of 3)\n    Line #20 (got 1 columns instead of 3)\n    Line #21 (got 1 columns instead of 3)\n    Line #22 (got 1 columns instead of 3)\n    Line #23 (got 1 columns instead of 3)\n    Line #24 (got 1 columns instead of 3)\n    Line #25 (got 1 columns instead of 3)\n    Line #26 (got 1 columns instead of 3)\n    Line #27 (got 1 columns instead of 3)\n    Line #28 (got 1 columns instead of 3)\n    Line #29 (got 1 columns instead of 3)\n    Line #30 (got 1 columns instead of 3)\n    Line #31 (got 1 columns instead of 3)\n    Line #32 (got 1 columns instead of 3)\n    Line #33 (got 1 columns instead of 3)\n    Line #34 (got 1 columns instead of 3)\n    Line #35 (got 1 columns instead of 3)\n    Line #36 (got 1 columns instead of 3)\n    Line #37 (got 1 columns instead of 3)\n    Line #38 (got 1 columns instead of 3)\n    Line #39 (got 1 columns instead of 3)\n    Line #40 (got 1 columns instead of 3)\n    Line #41 (got 1 columns instead of 3)\n    Line #42 (got 1 columns instead of 3)\n    Line #43 (got 1 columns instead of 3)\n    Line #44 (got 1 columns instead of 3)\n    Line #45 (got 1 columns instead of 3)\n    Line #46 (got 1 columns instead of 3)\n    Line #47 (got 1 columns instead of 3)\n    Line #48 (got 1 columns instead of 3)\n    Line #49 (got 1 columns instead of 3)\n    Line #50 (got 1 columns instead of 3)\n    Line #51 (got 1 columns instead of 3)",
     "output_type": "error",
     "traceback": [
      "\u001B[1;31m---------------------------------------------------------------------------\u001B[0m",
      "\u001B[1;31mValueError\u001B[0m                                Traceback (most recent call last)",
      "Cell \u001B[1;32mIn[2], line 1\u001B[0m\n\u001B[1;32m----> 1\u001B[0m data \u001B[38;5;241m=\u001B[39m np\u001B[38;5;241m.\u001B[39mgenfromtxt(\u001B[38;5;124m\"\u001B[39m\u001B[38;5;124mlinear_regression_2.csv\u001B[39m\u001B[38;5;124m\"\u001B[39m, unpack\u001B[38;5;241m=\u001B[39m\u001B[38;5;28;01mTrue\u001B[39;00m)\n\u001B[0;32m      2\u001B[0m concentration \u001B[38;5;241m=\u001B[39m data[\u001B[38;5;241m0\u001B[39m]\n\u001B[0;32m      3\u001B[0m absorption \u001B[38;5;241m=\u001B[39m data[\u001B[38;5;241m1\u001B[39m]\n",
      "File \u001B[1;32m~\\miniconda3\\envs\\tu_mdg\\Lib\\site-packages\\numpy\\lib\\npyio.py:2312\u001B[0m, in \u001B[0;36mgenfromtxt\u001B[1;34m(fname, dtype, comments, delimiter, skip_header, skip_footer, converters, missing_values, filling_values, usecols, names, excludelist, deletechars, replace_space, autostrip, case_sensitive, defaultfmt, unpack, usemask, loose, invalid_raise, max_rows, encoding, ndmin, like)\u001B[0m\n\u001B[0;32m   2310\u001B[0m \u001B[38;5;66;03m# Raise an exception ?\u001B[39;00m\n\u001B[0;32m   2311\u001B[0m \u001B[38;5;28;01mif\u001B[39;00m invalid_raise:\n\u001B[1;32m-> 2312\u001B[0m     \u001B[38;5;28;01mraise\u001B[39;00m \u001B[38;5;167;01mValueError\u001B[39;00m(errmsg)\n\u001B[0;32m   2313\u001B[0m \u001B[38;5;66;03m# Issue a warning ?\u001B[39;00m\n\u001B[0;32m   2314\u001B[0m \u001B[38;5;28;01melse\u001B[39;00m:\n\u001B[0;32m   2315\u001B[0m     warnings\u001B[38;5;241m.\u001B[39mwarn(errmsg, ConversionWarning, stacklevel\u001B[38;5;241m=\u001B[39m\u001B[38;5;241m2\u001B[39m)\n",
      "\u001B[1;31mValueError\u001B[0m: Some errors were detected !\n    Line #2 (got 1 columns instead of 3)\n    Line #3 (got 1 columns instead of 3)\n    Line #4 (got 1 columns instead of 3)\n    Line #5 (got 1 columns instead of 3)\n    Line #6 (got 1 columns instead of 3)\n    Line #7 (got 1 columns instead of 3)\n    Line #8 (got 1 columns instead of 3)\n    Line #9 (got 1 columns instead of 3)\n    Line #10 (got 1 columns instead of 3)\n    Line #11 (got 1 columns instead of 3)\n    Line #12 (got 1 columns instead of 3)\n    Line #13 (got 1 columns instead of 3)\n    Line #14 (got 1 columns instead of 3)\n    Line #15 (got 1 columns instead of 3)\n    Line #16 (got 1 columns instead of 3)\n    Line #17 (got 1 columns instead of 3)\n    Line #18 (got 1 columns instead of 3)\n    Line #19 (got 1 columns instead of 3)\n    Line #20 (got 1 columns instead of 3)\n    Line #21 (got 1 columns instead of 3)\n    Line #22 (got 1 columns instead of 3)\n    Line #23 (got 1 columns instead of 3)\n    Line #24 (got 1 columns instead of 3)\n    Line #25 (got 1 columns instead of 3)\n    Line #26 (got 1 columns instead of 3)\n    Line #27 (got 1 columns instead of 3)\n    Line #28 (got 1 columns instead of 3)\n    Line #29 (got 1 columns instead of 3)\n    Line #30 (got 1 columns instead of 3)\n    Line #31 (got 1 columns instead of 3)\n    Line #32 (got 1 columns instead of 3)\n    Line #33 (got 1 columns instead of 3)\n    Line #34 (got 1 columns instead of 3)\n    Line #35 (got 1 columns instead of 3)\n    Line #36 (got 1 columns instead of 3)\n    Line #37 (got 1 columns instead of 3)\n    Line #38 (got 1 columns instead of 3)\n    Line #39 (got 1 columns instead of 3)\n    Line #40 (got 1 columns instead of 3)\n    Line #41 (got 1 columns instead of 3)\n    Line #42 (got 1 columns instead of 3)\n    Line #43 (got 1 columns instead of 3)\n    Line #44 (got 1 columns instead of 3)\n    Line #45 (got 1 columns instead of 3)\n    Line #46 (got 1 columns instead of 3)\n    Line #47 (got 1 columns instead of 3)\n    Line #48 (got 1 columns instead of 3)\n    Line #49 (got 1 columns instead of 3)\n    Line #50 (got 1 columns instead of 3)\n    Line #51 (got 1 columns instead of 3)"
     ]
    }
   ],
   "execution_count": 2
  },
  {
   "metadata": {},
   "cell_type": "code",
   "outputs": [],
   "execution_count": null,
   "source": [
    "protain_da = xr.DataArray(absorption,\n",
    "                          dims=['idx', 'c'],\n",
    "                          coords={'c': ('c', concentration),\n",
    "                                     'idx': idx})\n",
    "\n",
    "protain_da"
   ],
   "id": "475a384222dd02c9"
  },
  {
   "metadata": {},
   "cell_type": "code",
   "outputs": [],
   "execution_count": null,
   "source": [
    "protain_da.plot.line(x='c', add_legend=False)\n",
    "plt.show()"
   ],
   "id": "88800edfeffa6633"
  }
 ],
 "metadata": {
  "kernelspec": {
   "display_name": "Python 3",
   "language": "python",
   "name": "python3"
  },
  "language_info": {
   "codemirror_mode": {
    "name": "ipython",
    "version": 2
   },
   "file_extension": ".py",
   "mimetype": "text/x-python",
   "name": "python",
   "nbconvert_exporter": "python",
   "pygments_lexer": "ipython2",
   "version": "2.7.6"
  }
 },
 "nbformat": 4,
 "nbformat_minor": 5
}
