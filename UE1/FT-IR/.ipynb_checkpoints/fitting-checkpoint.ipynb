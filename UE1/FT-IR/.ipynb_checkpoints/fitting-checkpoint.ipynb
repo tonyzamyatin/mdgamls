{
 "cells": [
  {
   "cell_type": "markdown",
   "id": "japanese-cambodia",
   "metadata": {},
   "source": [
    "# Mulvariate regression\n",
    "\n",
    "In this example we are using multivariate regression to determined the concentration of three different sugars : Fructose, Glucose and Sucrose in aqueous solution using FTIR. The samples were measured on a Diamond ATR. Spectra were recorded on different days by operators of varying capabilities.\n",
    "\n",
    "Data is provided in the form of two csv files, one containing IR spectra and one containing concentrations. \n",
    "\n",
    "\n"
   ]
  },
  {
   "cell_type": "markdown",
   "id": "d968c80e-978e-41e6-8a37-4cd38626a70b",
   "metadata": {},
   "source": [
    "Required packages\n",
    "\n",
    "- `matplotlib`\n",
    "- `pandas`\n",
    "- `scikit-learn`\n",
    "- `numpy`\n",
    "- `xarray`"
   ]
  },
  {
   "cell_type": "code",
   "execution_count": null,
   "id": "spiritual-recognition",
   "metadata": {},
   "outputs": [],
   "source": [
    "import pandas as pd\n",
    "\n",
    "\n",
    "import matplotlib.pyplot as plt\n",
    "import numpy as np\n",
    "import xarray as xr\n",
    "\n",
    "%matplotlib inline"
   ]
  },
  {
   "cell_type": "markdown",
   "id": "unique-multimedia",
   "metadata": {},
   "source": [
    "## Multivariate models"
   ]
  },
  {
   "cell_type": "markdown",
   "id": "continuing-moment",
   "metadata": {},
   "source": [
    "First we load the spectral data:"
   ]
  },
  {
   "cell_type": "code",
   "execution_count": null,
   "id": "composite-system",
   "metadata": {},
   "outputs": [],
   "source": [
    "spec_data = np.genfromtxt(\"sugar_spectra.csv\", unpack=True)\n",
    "wn = spec_data[0]\n",
    "absorption = spec_data[1:]"
   ]
  },
  {
   "cell_type": "markdown",
   "id": "multiple-theater",
   "metadata": {},
   "source": [
    "For the sugar concentrations we use pandas. `index_col` makes pandas use the first column as index"
   ]
  },
  {
   "cell_type": "code",
   "execution_count": null,
   "id": "generous-apparel",
   "metadata": {},
   "outputs": [],
   "source": [
    "concentrations = pd.read_csv(\"sugar concentration.csv\",index_col=0)"
   ]
  },
  {
   "cell_type": "code",
   "execution_count": null,
   "id": "dd82333b-3c71-4961-83ed-fccbb2ca3f08",
   "metadata": {},
   "outputs": [],
   "source": [
    "concentrations"
   ]
  },
  {
   "cell_type": "markdown",
   "id": "d9140314-58db-4706-804c-31b82a674344",
   "metadata": {},
   "source": [
    "And put the spectra into a DataArray with the same index as the concentrations:"
   ]
  },
  {
   "cell_type": "code",
   "execution_count": null,
   "id": "85ab644d-6741-4d1a-ad26-e5f648c4a9db",
   "metadata": {},
   "outputs": [],
   "source": [
    "sugar_da = xr.DataArray(absorption, \n",
    "                        dims=[\"idx\", \"wn\"], # same order as numpy axes\n",
    "                        coords={\"wn\":(\"wn\", wn),\n",
    "                                \"idx\":concentrations.index})\n",
    "sugar_da"
   ]
  },
  {
   "cell_type": "markdown",
   "id": "52a73e4f-61a2-48c2-bc90-02e79e917783",
   "metadata": {},
   "source": [
    "This is the full spectral dataset:"
   ]
  },
  {
   "cell_type": "code",
   "execution_count": null,
   "id": "a718a67c-4f28-4139-997e-7d54aff377e7",
   "metadata": {},
   "outputs": [],
   "source": [
    "plt.figure()\n",
    "sugar_da.plot.line(x=\"wn\", add_legend=False);"
   ]
  },
  {
   "cell_type": "markdown",
   "id": "downtown-buying",
   "metadata": {},
   "source": [
    "This is what the dataset looks like. Since this measurement was taken on a diamond ATR using water as background, there are several regions in the spectrum showing high noise. \n",
    "\n",
    "In this case the best part of the spectrum to use lies within the range of 850 cm^-1^  to 1500 cm^-1^. Use to `.sel` to restrict the spectral range accordingly and assign the result to the variable \"sugar_reduced\".\n",
    "\n",
    "**Task**: Use the band assignment table provided with this exercise and your knowledge about the structure of carbohydrate and the sample to answer the following questions:\n",
    "\n",
    "Q1: Which functional of carbohydrates are we likely measuring in this reduced spectral range.\n",
    "\n",
    "Q2: What causes the high noise (=very little light reaches the detector) in the range between 3000 cm^-1^  to 3500 cm^-1^"
   ]
  },
  {
   "cell_type": "code",
   "execution_count": null,
   "id": "collectible-resident",
   "metadata": {},
   "outputs": [],
   "source": [
    "plt.figure()\n",
    "sugar_reduced = sugar_da.sortby(\"wn\").sel(wn=slice(0,4000))\n",
    "sugar_reduced.plot.line(x=\"wn\", add_legend=False);"
   ]
  },
  {
   "cell_type": "markdown",
   "id": "b636b2c3-51ec-465b-ac57-813ff4e18511",
   "metadata": {},
   "source": [
    "## PLS\n",
    "\n",
    "The next steps follow almost identically to the code discussed in the exercise:"
   ]
  },
  {
   "cell_type": "code",
   "execution_count": null,
   "id": "43435fd8-79dc-4d14-93d5-5cf6874356f7",
   "metadata": {},
   "outputs": [],
   "source": [
    "from sklearn.cross_decomposition import PLSRegression\n",
    "X = sugar_reduced.transpose(\"idx\",...).sortby(\"idx\")\n",
    "y = concentrations"
   ]
  },
  {
   "cell_type": "code",
   "execution_count": null,
   "id": "iraqi-potter",
   "metadata": {},
   "outputs": [],
   "source": [
    "from sklearn.cross_decomposition import PLSRegression\n",
    "\n",
    "from sklearn.model_selection import GridSearchCV\n",
    "from sklearn.model_selection import LeaveOneOut"
   ]
  },
  {
   "cell_type": "code",
   "execution_count": null,
   "id": "heard-advancement",
   "metadata": {},
   "outputs": [],
   "source": [
    "# instantiate\n",
    "pls = PLSRegression(scale=False)"
   ]
  },
  {
   "cell_type": "code",
   "execution_count": null,
   "id": "57765f84-1bbe-4127-a603-cf2306ab9766",
   "metadata": {},
   "outputs": [],
   "source": [
    "\n",
    "gcv = GridSearchCV(pls, param_grid={\"n_components\":np.arange(1, 10)},\n",
    "                   cv=LeaveOneOut(), scoring=\"neg_root_mean_squared_error\")\n",
    "\n",
    "gcv.fit(X, y)\n",
    "\n",
    "res = pd.DataFrame(gcv.cv_results_)\n",
    "\n",
    "plt.figure()\n",
    "plt.plot(res.param_n_components, -res.mean_test_score)\n",
    "plt.xlabel(\"latent variables\")\n",
    "plt.ylabel(\"RMSECV\")\n"
   ]
  },
  {
   "cell_type": "markdown",
   "id": "526e706d-c302-43ad-a767-e4f1cd16bfc7",
   "metadata": {},
   "source": [
    "**Task**: Choose the number latent variables and then calibrate the PLSRegression. Explain your reasoning.\n"
   ]
  },
  {
   "cell_type": "code",
   "execution_count": null,
   "id": "183ff3f6-091f-4ff1-ab83-110bf02defe4",
   "metadata": {},
   "outputs": [],
   "source": [
    "pls = PLSRegression(n_components=4, scale=False)\n",
    "pls.fit(X,y)\n"
   ]
  },
  {
   "cell_type": "markdown",
   "id": "dimensional-pottery",
   "metadata": {},
   "source": [
    "Finally, we use the model to predict carbohydrate concentrations. "
   ]
  },
  {
   "cell_type": "code",
   "execution_count": null,
   "id": "minus-stereo",
   "metadata": {},
   "outputs": [],
   "source": [
    "prediction_arr = pls.predict(sugar_reduced.transpose(\"idx\",...) )\n",
    "prediction = pd.DataFrame(prediction_arr, \n",
    "                          columns=concentrations.columns, \n",
    "                          index=concentrations.index)\n",
    "prediction"
   ]
  },
  {
   "cell_type": "markdown",
   "id": "76f89b11-427f-4621-9d30-16daeb0f1427",
   "metadata": {},
   "source": [
    "Below, we calculate the difference between predicted and actual values:\n",
    "\n",
    "**Task**: Some of the predictions are likely better than others. \n",
    "Q3: Which predictions are especially far off?\n",
    "Q4: Is there any trend for points that work especially well (or bad)? "
   ]
  },
  {
   "cell_type": "code",
   "execution_count": null,
   "id": "795a5b6f-2084-4809-9bbb-5b6d5d19ee5b",
   "metadata": {},
   "outputs": [],
   "source": [
    "(prediction - concentrations)"
   ]
  },
  {
   "cell_type": "markdown",
   "id": "23eb4d07-7511-4e93-a953-ac8f53098a2c",
   "metadata": {},
   "source": [
    "Above, we always use the keyword argument `scale=True` when instantiting `PLSRegression`. \n",
    "\n",
    "**Task**: Rerun the regressions with `scale=False` (the default). \n",
    "Q5: Does this improve or degrade the performance? Explain your thoughts on why this is?"
   ]
  },
  {
   "cell_type": "code",
   "execution_count": null,
   "id": "ed92ca2d-68d7-40f4-ab8e-4758d32f0470",
   "metadata": {},
   "outputs": [],
   "source": []
  }
 ],
 "metadata": {
  "celltoolbar": "Tags",
  "kernelspec": {
   "display_name": "Python 3 (ipykernel)",
   "language": "python",
   "name": "python3"
  },
  "language_info": {
   "codemirror_mode": {
    "name": "ipython",
    "version": 3
   },
   "file_extension": ".py",
   "mimetype": "text/x-python",
   "name": "python",
   "nbconvert_exporter": "python",
   "pygments_lexer": "ipython3",
   "version": "3.12.5"
  },
  "metadata": {
   "execution": {
    "timeout": 100
   }
  },
  "varInspector": {
   "cols": {
    "lenName": 16,
    "lenType": 16,
    "lenVar": 40
   },
   "kernels_config": {
    "python": {
     "delete_cmd_postfix": "",
     "delete_cmd_prefix": "del ",
     "library": "var_list.py",
     "varRefreshCmd": "print(var_dic_list())"
    },
    "r": {
     "delete_cmd_postfix": ") ",
     "delete_cmd_prefix": "rm(",
     "library": "var_list.r",
     "varRefreshCmd": "cat(var_dic_list()) "
    }
   },
   "types_to_exclude": [
    "module",
    "function",
    "builtin_function_or_method",
    "instance",
    "_Feature"
   ],
   "window_display": false
  }
 },
 "nbformat": 4,
 "nbformat_minor": 5
}
