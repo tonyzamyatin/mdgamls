{
 "cells": [
  {
   "metadata": {},
   "cell_type": "markdown",
   "source": [
    "# UE1: Interlab Comparison\n",
    "A world-wide scientific study requests data from different labs to get as comprehensive analyses as possible for a global study. Per county a different number of labs agree to participate and they agree to submit data of concentration levels of the requested parameter. \n",
    "\n",
    "You are the person who must decide if the submitted data can be included to the global study. Consider the first data set to be the data from other countries/continents.\n",
    "\n",
    "_What do you gave to consider? Can I combine the data to one data set?_ \n",
    "\n",
    "_What are you doing with the data?test set: Gaussian distributed? test set(s): variance comparable to other data?_\n",
    "\n",
    "_What is your result?_"
   ],
   "id": "48fc3d85ea09dcdf"
  },
  {
   "metadata": {},
   "cell_type": "markdown",
   "source": [
    "To assess the data submitted by different labs for inclusion in a global scientific study, firstly a quality check and looking at the consistency of the data is seems sensible: Are the concentration levels reported in the same units across all labs?\n",
    "Are the methodologies used by the labs consistent or comparable? Differences in measurement techniques could introduce bias. These questions are not answerable with the specification given for the assignment, so I assume both of these questions can be answered with 'Yes'. What is possible though, is to check for extreme outliers or other irregularities that could skew the global analysis. "
   ],
   "id": "812562785c9ee868"
  },
  {
   "metadata": {
    "ExecuteTime": {
     "end_time": "2024-10-18T13:02:06.296946Z",
     "start_time": "2024-10-18T13:02:06.256208Z"
    }
   },
   "cell_type": "code",
   "source": [
    "import pandas as pd\n",
    "data = pd.read_csv('Bsp2.txt', sep='\\t')\n",
    "data = data.replace(',', '.', regex=True)\n",
    "data['Liste 1'] = pd.to_numeric(data['Liste 1'], errors='coerce')\n",
    "data['Liste 2'] = pd.to_numeric(data['Liste 2'], errors='coerce')\n",
    "data['Liste 3'] = pd.to_numeric(data['Liste 3'], errors='coerce')\n",
    "data.describe()\n"
   ],
   "id": "195f3a753905695c",
   "outputs": [
    {
     "data": {
      "text/plain": [
       "           Liste 1      Liste 2     Liste 3\n",
       "count    15.000000    15.000000   15.000000\n",
       "mean    999.997262   999.979457  999.370667\n",
       "std       0.045506     0.021834    0.110160\n",
       "min     999.918225   999.927671  999.160000\n",
       "25%     999.965344   999.967604  999.295000\n",
       "50%    1000.007638   999.982193  999.400000\n",
       "75%    1000.027353   999.999548  999.430000\n",
       "max    1000.064897  1000.005062  999.570000"
      ],
      "text/html": [
       "<div>\n",
       "<style scoped>\n",
       "    .dataframe tbody tr th:only-of-type {\n",
       "        vertical-align: middle;\n",
       "    }\n",
       "\n",
       "    .dataframe tbody tr th {\n",
       "        vertical-align: top;\n",
       "    }\n",
       "\n",
       "    .dataframe thead th {\n",
       "        text-align: right;\n",
       "    }\n",
       "</style>\n",
       "<table border=\"1\" class=\"dataframe\">\n",
       "  <thead>\n",
       "    <tr style=\"text-align: right;\">\n",
       "      <th></th>\n",
       "      <th>Liste 1</th>\n",
       "      <th>Liste 2</th>\n",
       "      <th>Liste 3</th>\n",
       "    </tr>\n",
       "  </thead>\n",
       "  <tbody>\n",
       "    <tr>\n",
       "      <th>count</th>\n",
       "      <td>15.000000</td>\n",
       "      <td>15.000000</td>\n",
       "      <td>15.000000</td>\n",
       "    </tr>\n",
       "    <tr>\n",
       "      <th>mean</th>\n",
       "      <td>999.997262</td>\n",
       "      <td>999.979457</td>\n",
       "      <td>999.370667</td>\n",
       "    </tr>\n",
       "    <tr>\n",
       "      <th>std</th>\n",
       "      <td>0.045506</td>\n",
       "      <td>0.021834</td>\n",
       "      <td>0.110160</td>\n",
       "    </tr>\n",
       "    <tr>\n",
       "      <th>min</th>\n",
       "      <td>999.918225</td>\n",
       "      <td>999.927671</td>\n",
       "      <td>999.160000</td>\n",
       "    </tr>\n",
       "    <tr>\n",
       "      <th>25%</th>\n",
       "      <td>999.965344</td>\n",
       "      <td>999.967604</td>\n",
       "      <td>999.295000</td>\n",
       "    </tr>\n",
       "    <tr>\n",
       "      <th>50%</th>\n",
       "      <td>1000.007638</td>\n",
       "      <td>999.982193</td>\n",
       "      <td>999.400000</td>\n",
       "    </tr>\n",
       "    <tr>\n",
       "      <th>75%</th>\n",
       "      <td>1000.027353</td>\n",
       "      <td>999.999548</td>\n",
       "      <td>999.430000</td>\n",
       "    </tr>\n",
       "    <tr>\n",
       "      <th>max</th>\n",
       "      <td>1000.064897</td>\n",
       "      <td>1000.005062</td>\n",
       "      <td>999.570000</td>\n",
       "    </tr>\n",
       "  </tbody>\n",
       "</table>\n",
       "</div>"
      ]
     },
     "execution_count": 147,
     "metadata": {},
     "output_type": "execute_result"
    }
   ],
   "execution_count": 147
  },
  {
   "metadata": {},
   "cell_type": "markdown",
   "source": "When comparing the means of Liste 1, 2 and 3 it is noticable that Liste 3's mean is significantly lower than the means of Liste 1 (global data). This suggests that Liste 3 might not be directly comparable to our global data, whereas the means of Liste 1 and 2 are more or less the same making them compatible. Looking at the 25th, 50th, and 75th percentiles, Liste 3 has significantly lower numbers than Liste 1 and 2 meaning that a substantial portion of the data in Liste 3 is shifted toward lower values. In Liste 2 the standard deviation is smaller than in Liste 1 but since the mean is approximately the same it is not as critical. Also, the standard deviation of Liste 3 is more than double of the standard deviation of Liste 1, indicating much higher spread in data and maybe a different underlying distribution. So the next step will be to check for normal distribution.",
   "id": "49e53400adf11746"
  },
  {
   "metadata": {
    "ExecuteTime": {
     "end_time": "2024-10-18T11:59:03.327026Z",
     "start_time": "2024-10-18T11:59:03.314062Z"
    }
   },
   "cell_type": "code",
   "source": [
    "from scipy import stats\n",
    "data_clean = data.dropna()\n",
    "for x in range(1, 4):\n",
    "    shapiro_test = stats.shapiro(data_clean['Liste ' + str(x)])\n",
    "    print('Liste ' + str(x) + ':')\n",
    "    print('Shapiro-Wilk Test Statistic:', shapiro_test.statistic)\n",
    "    print('p-value:', shapiro_test.pvalue)\n"
   ],
   "id": "ce170e7812674c5c",
   "outputs": [
    {
     "name": "stdout",
     "output_type": "stream",
     "text": [
      "Liste 1:\n",
      "Shapiro-Wilk Test Statistic: 0.9455969095194531\n",
      "p-value: 0.45795323096212953\n",
      "Liste 2:\n",
      "Shapiro-Wilk Test Statistic: 0.9182950875354612\n",
      "p-value: 0.181428123489205\n",
      "Liste 3:\n",
      "Shapiro-Wilk Test Statistic: 0.9753398306633886\n",
      "p-value: 0.927756056691418\n"
     ]
    }
   ],
   "execution_count": 137
  },
  {
   "metadata": {},
   "cell_type": "markdown",
   "source": "The next step is to check for normal distribution. Therefor a Shapiro Wilk Test, which is one of the most powerful tests available for small sample sizes, is conducted with all datasets. The null hypothesis of the test is that data is normally distributed and if the p-value is less than a chosen significance level (commonly 0.05 --> accepting 5% chance of incorrectly rejecting null hypothesis), you reject the null hypothesis that the data is normally distributed. As can be seen in the results of the Shapiro Wilk Test, for each List there is not enough evidence to reject null hypothesis. So all the datasets can be assumed to be normally distributed, although Liste 3 shows the least evidence against the null hypothesis of normality (highest p-value) - most consistent with being normally distributed. ",
   "id": "cc89a62e3e3949a0"
  },
  {
   "metadata": {
    "ExecuteTime": {
     "end_time": "2024-10-18T11:54:03.374157Z",
     "start_time": "2024-10-18T11:54:03.196313Z"
    }
   },
   "cell_type": "code",
   "source": [
    "import seaborn as sns\n",
    "import matplotlib.pyplot as plot\n",
    "sns.histplot(data, kde=True, bins=30)\n",
    "plot.title('Frequency distribution of all Datasets')\n",
    "plot.xlabel('Values')\n",
    "plot.ylabel('Frequency')\n",
    "plot.show()"
   ],
   "id": "443dfae154066683",
   "outputs": [
    {
     "data": {
      "text/plain": [
       "<Figure size 640x480 with 1 Axes>"
      ],
      "image/png": "[encoded data removed]"
     },
     "metadata": {},
     "output_type": "display_data"
    }
   ],
   "execution_count": 130
  },
  {
   "metadata": {},
   "cell_type": "markdown",
   "source": "Visualizing the distributions in one plot not only somewhat confirms the underlying normal distribution but shows us how big the difference between the data of Liste 1/2 and Liste 3 is. This makes it clearer that combining Liste 3 with the global data would not work and just skew the data. Also, even if the data is normally distributed, checking whether the variability (variance) of the new datasets is similar to that of the existing dataset from other countries or continents.",
   "id": "987b01ca916a70d1"
  },
  {
   "metadata": {
    "ExecuteTime": {
     "end_time": "2024-10-18T12:25:56.289252Z",
     "start_time": "2024-10-18T12:25:56.276100Z"
    }
   },
   "cell_type": "code",
   "source": [
    "levene_stat, levene_pvalue = stats.levene(data_clean['Liste 1'], data_clean['Liste 2'])\n",
    "print('Liste 1 and 2:')\n",
    "print('Levene\\'s Test Statistic:', levene_stat)\n",
    "print('p-value:', levene_pvalue)\n",
    "levene_stat, levene_pvalue = stats.levene(data_clean['Liste 1'], data_clean['Liste 3'])\n",
    "print('Liste 1 and 3:')\n",
    "print('Levene\\'s Test Statistic:', levene_stat)\n",
    "print('p-value:', levene_pvalue)"
   ],
   "id": "39b2c6fa96fb82f9",
   "outputs": [
    {
     "name": "stdout",
     "output_type": "stream",
     "text": [
      "Liste 1 and 2:\n",
      "Levene's Test Statistic: 6.443159394760461\n",
      "p-value: 0.016982922915622155\n",
      "Liste 1 and 3:\n",
      "Levene's Test Statistic: 5.393129018807742\n",
      "p-value: 0.027708767347466853\n"
     ]
    }
   ],
   "execution_count": 145
  },
  {
   "metadata": {},
   "cell_type": "markdown",
   "source": [
    "Testing for comparable variances with the Levene's Test shows assumption of homogeneity of variances is violated. The null hypothesis of the test is that the data's variances are equal and if the p-value is less than a chosen significance level (commonly 0.05 --> accepting 5% chance of incorrectly rejecting null hypothesis), you reject the null hypothesis about homogeneity. Combining datasets with significantly different variances can lead to misleading conclusions, loss of information, skewness and invalidate the results of subsequent analyses, so it is not recommendable to combine the datasets. If datasets have different variances, the combined dataset may not accurately reflect the individual characteristics of each group. This could lead to researchers making broader claims based on results that do not apply equally across all subgroups. \n",
    "\n",
    "But if one dataset has to be combined it should be Liste 1 (global) and Liste 2. Their means are approximately the same which could make the difference in variance more acceptable because data points of Liste 2 would be more centered around the common mean without introducing any outliers. Also, they are both not proven wrong on underlying normal distribution. Liste 3 does not seem comparable in any way to the global dataset, its distribution is shifted too much toward lower values. Maybe the methodologies used by the labs are indeed NOT consistent and this leads to the displacement of the data in Liste 3. "
   ],
   "id": "2fc740e8a1255033"
  }
 ],
 "metadata": {
  "kernelspec": {
   "display_name": "Python 3",
   "language": "python",
   "name": "python3"
  },
  "language_info": {
   "codemirror_mode": {
    "name": "ipython",
    "version": 2
   },
   "file_extension": ".py",
   "mimetype": "text/x-python",
   "name": "python",
   "nbconvert_exporter": "python",
   "pygments_lexer": "ipython2",
   "version": "2.7.6"
  }
 },
 "nbformat": 4,
 "nbformat_minor": 5
}
