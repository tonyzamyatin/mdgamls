{
 "cells": [
  {
   "metadata": {},
   "cell_type": "markdown",
   "source": [
    "# UE1: Interlab Comparison\n",
    "A world-wide scientific study requests data from different labs to get as comprehensive analyses as possible for a global study. Per county a different number of labs agree to participate and they agree to submit data of concentration levels of the requested parameter. \n",
    "\n",
    "You are the person who must decide if the submitted data can be included to the global study. Consider the first data set to be the data from other countries/continents.\n",
    "\n",
    "_What do you gave to consider? Can I combine the data to one data set?_ \n",
    "\n",
    "_What are you doing with the data?test set: Gaussian distributed? test set(s): variance comparable to other data?_\n",
    "\n",
    "_What is your result?_"
   ],
   "id": "48fc3d85ea09dcdf"
  },
  {
   "metadata": {},
   "cell_type": "code",
   "outputs": [],
   "execution_count": null,
   "source": "",
   "id": "195f3a753905695c"
  }
 ],
 "metadata": {
  "kernelspec": {
   "display_name": "Python 3",
   "language": "python",
   "name": "python3"
  },
  "language_info": {
   "codemirror_mode": {
    "name": "ipython",
    "version": 2
   },
   "file_extension": ".py",
   "mimetype": "text/x-python",
   "name": "python",
   "nbconvert_exporter": "python",
   "pygments_lexer": "ipython2",
   "version": "2.7.6"
  }
 },
 "nbformat": 4,
 "nbformat_minor": 5
}
