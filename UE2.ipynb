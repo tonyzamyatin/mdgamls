{
 "cells": [
  {
   "metadata": {},
   "cell_type": "markdown",
   "source": [
    "# UE2: Omics Data Analysis\n",
    "You have a GO annotation given: GO:0007584\n",
    "\n",
    "_What is the biological process this GO term is describing, and how many co-ocurring termns can be found._\n",
    " \n",
    "_Is Alpha-2-macroglobulin involved in this function?_\n",
    "\n",
    "_What is the amino acid sequence of this protein (organism Rattus norvegicus)_\n",
    "\n",
    "_Is this protein modified (post-translational modifications)? And if yes, how?_\n",
    "\n",
    "_Which proteins are main interaction partners?_\n"
   ],
   "id": "d824451fdc077ff"
  },
  {
   "metadata": {},
   "cell_type": "markdown",
   "source": [
    "The Gene Ontology (GO) provides a framework for association between a specific gene product and a GO concept. These concepts are organized in 3 key aspects of the biological domain: molecular function, cellular component of action, and biological process. Molecular function defines the activities of gene products like catalysis, not specifying when, where,... they take place. On the other hand the cellular component aspect would describe the location of a gene product in the cell. Finally, the category of biological process represents multi molecular activities resulting in bigger biological processes for example DNA repair (https://geneontology.org/docs/ontology-documentation/, 23.10.). \n",
    "Every GO class or term has a unique GO ID consisting of 7 digits, an aspect (molecular function, ...), a definition and also a relationship to other terms (https://geneontology.org/docs/GO-term-elements, 23.10.). This aims to unify representation of genes and their products and provide a resource for consistent annotation (https://pubmed.ncbi.nlm.nih.gov/24524070/, 23.10.). "
   ],
   "id": "703ee989a49de22"
  },
  {
   "metadata": {},
   "cell_type": "markdown",
   "source": [
    "### What is the biological process this GO term is describing, and how many co-ocurring terms can be found.\n",
    "\n",
    "Using search function of the website https://geneontology.org/ for the GO annotation GO:0007584 the name __response to nutrients__ can be found, already describing the biological process of this annotation. After clicking on the link button to see further information to the name, a definition is displayed: 'Any process that results in a change in state or activity of a cell or an organism (in terms of movement, secretion, enzyme production, gene expression, etc.) as a result of a nutrient stimulus.'. \n",
    "\n",
    "In the context of Gene Ontology (GO), co-occurring terms refer to GO terms from different subontologies (Molecular Function, Cellular Component, and Biological Process) that are associated with the same gene or gene product through annotation (https://pubmed.ncbi.nlm.nih.gov/24524070/). With help of the web-based browser https://www.ebi.ac.uk/QuickGO/ for viewing and exploring the Gene Ontology (GO) the number of co-occuring terms for GO:0007584 could be found: __3,391__."
   ],
   "id": "58bae45f44a9a0e4"
  },
  {
   "metadata": {},
   "cell_type": "markdown",
   "source": [
    "### Is Alpha-2-macroglobulin involved in this function?\n",
    "\n",
    "The search for GO:0007584 in https://geneontology.org/ redirects to a page (AmiGO 2) where among other things a link to all genes and gene products associated to response to nutrient can be found. After clicking the link a table is shown containing all genes/ products associated with the response to nutrient. With the search bar on the left Alpha-2-macroglobulin can be found as an associated to the GO annotation in Homo sapiens and Rattus norvegicus.  "
   ],
   "id": "b5710af8dd95c55c"
  },
  {
   "metadata": {},
   "cell_type": "markdown",
   "source": [
    "### What is the amino acid sequence of this protein (organism Rattus norvegicus)\n",
    "On this web app https://www.uniprot.org/ Alpha-2-macroglobulin was entered to find the UniProt ID needed to translate the protein to a AA sequence. After the results are shown, they were filtered with Rat (Rattus norvegicus) and the UniProt ID P06238 was found. Going to the BLAST header and entering P06238 in the first search 'Find a protein sequence...' leads to this amino acid sequence in FASTA format starting with the start codon or amino acid Methionine:   \n",
    " \n",
    "MGKHRLRSLA LLPLLLRLLL LLLPTDASAP QKPIYMVMVP SLLHAGTPEK ACFLFSHLNE\n",
    "TVAVRVSLES VRGNQSLFTD LVVDKDLFHC TSFTVPQSSS DEVMFFTVQV KGATHEFRRR\n",
    "STVLVKKKES LVFAQTDKPI YKPGQTVRFR VVSLDESFHP LNELIPLLYI QDPKNNRIAQ\n",
    "WQNFNLEGGL KQLSFPLSSE PTQGSYKVVI RTESGRTVEH PFSVEEFVLP KFEVRVTVPE\n",
    "TITILEEEMN VSVCGIYTYG KPVPGRVTVN ICRKYSNPSN CFGEESVAFC EKLSQQLDGR\n",
    "GCFSQLVKTK SFQLKRQEYE MQLDVHAKIQ EEGTGVEETG KGLTKITRTI TKLSFVNVDS\n",
    "HFRQGIPFVG QVLLVDGRGT PIPYETIFIG ADEANLYINT TTDKHGLARF SINTDDIMGT\n",
    "SLTVRAKYKD SNACYGFRWL TEENVEAWHT AYAVFSPSRS FLHLESLPDK LRCDQTLEVQ\n",
    "AHYILNGEAM QELKELVFYY LMMAKGGIVR AGTHVLPLKQ GQMRGHFSIL ISMETDLAPV\n",
    "ARLVLYAILP NGEVVGDTAK YEIENCLANK VDLVFRPNSG LPATRALLSV MASPQSLCGL\n",
    "RAVDQSVLLM KPETELSASL IYDLLPVKDL TGFPQGADQR EEDTNGCVKQ NDTYINGILY\n",
    "SPVQNTNEED MYGFLKDMGL KVFTNSNIRK PKVCERLRDN KGIPAAYHLV SQSHMDAFLE\n",
    "SSESPTETRR SYFPETWIWD LVVVDSAGVA EVEVTVPDTI TEWKAGAFCL SNDTGLGLSP\n",
    "VVQFQAFQPF FVELTMPYSV IRGEAFTLKA TVLNYLPTCI RVAVQLEASP DFLAAPEEKE\n",
    "QRSHCICMNQ RHTASWAVIP KSLGNVNFTV SAEALNSKEL CGNEVPVVPE QGKKDTIIKS\n",
    "LLVEPEGLEN EVTFNSLLCP MGAEVSELIA LKLPSDVVEE SARASVTVLG DILGSAMQNT\n",
    "QDLLKMPYGC GEQNMVLFAP NIYVLDYLNE TQQLTQEIKT KAIAYLNTGY QRQLNYKHRD\n",
    "GSYSTFGDKP GRNHANTWLT AFVLKSFAQA RKYIFIDEVH ITQALLWLSQ QQKDNGCFRS\n",
    "SGSLLNNAMK GGVEDEVTLS AYITIALLEM SLPVTHPVVR NALFCLDTAW KSARGGAGGS\n",
    "HVYTKALLAY AFALAGNQDT KKEILKSLDE EAVKEEDSVH WTRPQKPSVS VALWYQPQAP\n",
    "SAEVEMTAYV LLAYLTTEPA PTQEDLTAAM LIVKWLTKQQ NSHGGFSSTQ DTVVALHALS\n",
    "KYGSATFTRA KKAAQVTIHS SGTFSTKFQV NNNNQLLLQR VTLPTVPGDY TVKVTGEGCV\n",
    "YLQTSLKYSV LPREEEFPFT VVVQTLPGTC EDPKAHTSFQ ISLNISYTGS RSESNMAIAD\n",
    "VKMVSGFIPL KPTVKMLERS VHVSRTEVSN NHVLIYLDKV SNQTVNLSFT VQQDIPIRDL\n",
    "KPAVVKVYDY YEKDEFAVAK YSAPCSTDYG NA\n",
    " "
   ],
   "id": "5f4047204b94eda5"
  }
 ],
 "metadata": {
  "kernelspec": {
   "display_name": "Python 3",
   "language": "python",
   "name": "python3"
  },
  "language_info": {
   "codemirror_mode": {
    "name": "ipython",
    "version": 2
   },
   "file_extension": ".py",
   "mimetype": "text/x-python",
   "name": "python",
   "nbconvert_exporter": "python",
   "pygments_lexer": "ipython2",
   "version": "2.7.6"
  }
 },
 "nbformat": 4,
 "nbformat_minor": 5
}
